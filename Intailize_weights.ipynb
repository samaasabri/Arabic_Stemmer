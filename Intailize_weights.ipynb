{
  "nbformat": 4,
  "nbformat_minor": 0,
  "metadata": {
    "colab": {
      "provenance": [],
      "authorship_tag": "ABX9TyMuIzF5EME1ocEc1xYYI4P2",
      "include_colab_link": true
    },
    "kernelspec": {
      "name": "python3",
      "display_name": "Python 3"
    },
    "language_info": {
      "name": "python"
    }
  },
  "cells": [
    {
      "cell_type": "markdown",
      "metadata": {
        "id": "view-in-github",
        "colab_type": "text"
      },
      "source": [
        "<a href=\"https://colab.research.google.com/github/samaasabri/Arabic_Stemmer/blob/main/Intailize_weights.ipynb\" target=\"_parent\"><img src=\"https://colab.research.google.com/assets/colab-badge.svg\" alt=\"Open In Colab\"/></a>"
      ]
    },
    {
      "cell_type": "code",
      "source": [
        "import numpy as np\n",
        "\n",
        "#Both parameters taken from GUI\n",
        "#ex >>(3,[10,10,10])\n",
        "\n",
        "def Intialize_weights(hidden_layers,neurons):\n",
        "  wieght_matrices=[]\n",
        "  for i in range(hidden_layers+1):\n",
        "    w_i=[]\n",
        "    if i==0:\n",
        "      w_i=np.random.rand(neurons[i],6)\n",
        "    elif i== hidden_layers:\n",
        "      w_i=np.random.rand(3,neurons[i-1])\n",
        "    else:\n",
        "      w_i=np.random.rand(neurons[i],neurons[i-1])\n",
        "\n",
        "\n",
        "    #print(w_i.shape)\n",
        "    #print('----------------------------------------')\n",
        "    wieght_matrices.append(w_i)\n",
        "\n",
        "  return  wieght_matrices"
      ],
      "metadata": {
        "id": "lGo_vhFbQOvh"
      },
      "execution_count": 28,
      "outputs": []
    },
    {
      "cell_type": "code",
      "source": [
        "#Taken from GUI\n",
        "hidden_layers=3\n",
        "neurons=[10,10,10]\n",
        "\n",
        "wieght_matrices=Intialize_weights(hidden_layers,neurons)\n",
        "#print(wieght_matrices)"
      ],
      "metadata": {
        "id": "nyOPvGKTYXUH"
      },
      "execution_count": 29,
      "outputs": []
    }
  ]
}